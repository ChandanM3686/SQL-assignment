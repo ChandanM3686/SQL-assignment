{
 "cells": [
  {
   "cell_type": "code",
   "execution_count": null,
   "id": "adfa85f3",
   "metadata": {},
   "outputs": [],
   "source": [
    "#Q1.\n",
    "What is a database? Differentiate between SQL and NoSQL databases.\n",
    "ans. A database is a structured collection of data that can be stored, managed, and accessed electronically. It is used to store data in a way that makes it easy to retrieve, update, and manipulate as needed. Databases are used in a wide range of applications, including business, finance, healthcare, education, and more.\n",
    "\n",
    "There are two main types of databases: SQL and NoSQL. Here's how they differ:\n",
    "\n",
    "SQL (Structured Query Language) databases are based on the relational model. They are organized into tables with columns and rows, with each row representing a single record in the table. SQL databases use a standardized language, SQL, to query, manipulate, and retrieve data. Some popular SQL databases include MySQL, Oracle, and PostgreSQL.\n",
    "\n",
    "NoSQL (Not Only SQL) databases, on the other hand, do not follow a rigid schema like SQL databases. They are designed to handle unstructured or semi-structured data, such as text, images, videos, and JSON documents. NoSQL databases can be classified into several categories, including document-oriented, key-value, graph, and column-family databases. Some popular NoSQL databases include MongoDB, Cassandra, and Redis."
   ]
  },
  {
   "cell_type": "code",
   "execution_count": null,
   "id": "75e0b7cb",
   "metadata": {},
   "outputs": [],
   "source": [
    "#Q2. \n",
    "What is DDL? Explain why CREATE, DROP, ALTER, and TRUNCATE are used with an example.\n",
    "ans .\n",
    "DDL stands for Data Definition Language. It is a subset of SQL used to define the structure of a database, including creating, modifying, and deleting database objects such as tables, views, and indexes.\n",
    "CREATE EX.This command is used to create a new database object, such as a table, view, or index. For example, to create a new table in a database, you might use the following SQL statement:\n",
    "\n",
    "CREATE TABLE users (\n",
    "  id INT PRIMARY KEY,\n",
    "  name VARCHAR(255),\n",
    "  email VARCHAR(255)\n",
    ");\n",
    "DROP: This command is used to delete a database object. For example, to delete the \"users\" table created above, you might use the following SQL statement:\n",
    "        DROP TABLE users;\n",
    "ALTER: This command is used to modify the structure of an existing database object. For example, to add a new column to the \"users\" table created above, you might use the following SQL statement:\n",
    "        ALTER TABLE users ADD COLUMN phone VARCHAR(20);\n",
    "TRUNCATE: This command is used to delete all data from a table while keeping the table structure intact. For example, to remove all data from the \"users\" table created above, you might use the following SQL statement:"
   ]
  },
  {
   "cell_type": "code",
   "execution_count": null,
   "id": "195f3b56",
   "metadata": {},
   "outputs": [],
   "source": [
    "#Q4.ans \n",
    "DQL stands for Data Query Language, which is a subset of SQL used to retrieve data from a database. SELECT is the most commonly used DQL command and is used to select data from one or more tables in a database.\n",
    "SELECT * FROM employees;\n"
   ]
  },
  {
   "cell_type": "code",
   "execution_count": null,
   "id": "2b722fbc",
   "metadata": {},
   "outputs": [],
   "source": [
    "#Q5 ans.\n",
    "A primary key is a column or group of columns in a relational database table that uniquely identifies each row in that table. A primary key is used to enforce data integrity, ensure that each row in the table is unique, and provide a way to link related tables together. The values in a primary key column must be unique, and the column or columns that make up the primary key cannot contain null values.\n",
    "\n",
    "For example, in a table of customers, the primary key might be the \"customer_id\" column. This column uniquely identifies each customer in the table, and no two customers can have the same customer ID.\n",
    "\n",
    "A foreign key is a column or group of columns in a relational database table that refers to the primary key of another table. A foreign key establishes a relationship between two tables, and it is used to ensure referential integrity between the tables. The values in a foreign key column must match the values in the primary key column of the referenced table, or be null."
   ]
  },
  {
   "cell_type": "code",
   "execution_count": null,
   "id": "adbf9f99",
   "metadata": {},
   "outputs": [],
   "source": [
    "#Q6 ans.\n",
    "import mysql.connector\n",
    "mydb = mysql.connector.connect(\n",
    "host = \"localhost\",\n",
    "user = \"abc\"\n",
    "password = \"password\"\n",
    ")\n",
    "\n",
    "mycusrsor = mydb.cursor()\n",
    "mycursor.execute(\"enter database\")\n",
    "for x in mycursor:\n",
    "    print(x)\n",
    "    \n",
    "cusrsor is used to enter the data and execute means that execute the command"
   ]
  }
 ],
 "metadata": {
  "kernelspec": {
   "display_name": "Python 3 (ipykernel)",
   "language": "python",
   "name": "python3"
  },
  "language_info": {
   "codemirror_mode": {
    "name": "ipython",
    "version": 3
   },
   "file_extension": ".py",
   "mimetype": "text/x-python",
   "name": "python",
   "nbconvert_exporter": "python",
   "pygments_lexer": "ipython3",
   "version": "3.11.1"
  }
 },
 "nbformat": 4,
 "nbformat_minor": 5
}
